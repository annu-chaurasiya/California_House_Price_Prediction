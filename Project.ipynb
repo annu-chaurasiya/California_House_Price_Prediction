{
 "cells": [
  {
   "cell_type": "code",
   "execution_count": 1,
   "id": "798c42b4-dc91-4f9e-a6fd-cd08e554a168",
   "metadata": {},
   "outputs": [
    {
     "data": {
      "text/html": [
       "<div>\n",
       "<style scoped>\n",
       "    .dataframe tbody tr th:only-of-type {\n",
       "        vertical-align: middle;\n",
       "    }\n",
       "\n",
       "    .dataframe tbody tr th {\n",
       "        vertical-align: top;\n",
       "    }\n",
       "\n",
       "    .dataframe thead th {\n",
       "        text-align: right;\n",
       "    }\n",
       "</style>\n",
       "<table border=\"1\" class=\"dataframe\">\n",
       "  <thead>\n",
       "    <tr style=\"text-align: right;\">\n",
       "      <th></th>\n",
       "      <th>longitude</th>\n",
       "      <th>latitude</th>\n",
       "      <th>housing_median_age</th>\n",
       "      <th>total_rooms</th>\n",
       "      <th>total_bedrooms</th>\n",
       "      <th>population</th>\n",
       "      <th>households</th>\n",
       "      <th>median_income</th>\n",
       "      <th>median_house_value</th>\n",
       "      <th>ocean_proximity</th>\n",
       "    </tr>\n",
       "  </thead>\n",
       "  <tbody>\n",
       "    <tr>\n",
       "      <th>0</th>\n",
       "      <td>-122.23</td>\n",
       "      <td>37.88</td>\n",
       "      <td>41.0</td>\n",
       "      <td>880.0</td>\n",
       "      <td>129.0</td>\n",
       "      <td>322.0</td>\n",
       "      <td>126.0</td>\n",
       "      <td>8.3252</td>\n",
       "      <td>452600.0</td>\n",
       "      <td>NEAR BAY</td>\n",
       "    </tr>\n",
       "    <tr>\n",
       "      <th>1</th>\n",
       "      <td>-122.22</td>\n",
       "      <td>37.86</td>\n",
       "      <td>21.0</td>\n",
       "      <td>7099.0</td>\n",
       "      <td>1106.0</td>\n",
       "      <td>2401.0</td>\n",
       "      <td>1138.0</td>\n",
       "      <td>8.3014</td>\n",
       "      <td>358500.0</td>\n",
       "      <td>NEAR BAY</td>\n",
       "    </tr>\n",
       "    <tr>\n",
       "      <th>2</th>\n",
       "      <td>-122.24</td>\n",
       "      <td>37.85</td>\n",
       "      <td>52.0</td>\n",
       "      <td>1467.0</td>\n",
       "      <td>190.0</td>\n",
       "      <td>496.0</td>\n",
       "      <td>177.0</td>\n",
       "      <td>7.2574</td>\n",
       "      <td>352100.0</td>\n",
       "      <td>NEAR BAY</td>\n",
       "    </tr>\n",
       "    <tr>\n",
       "      <th>3</th>\n",
       "      <td>-122.25</td>\n",
       "      <td>37.85</td>\n",
       "      <td>52.0</td>\n",
       "      <td>1274.0</td>\n",
       "      <td>235.0</td>\n",
       "      <td>558.0</td>\n",
       "      <td>219.0</td>\n",
       "      <td>5.6431</td>\n",
       "      <td>341300.0</td>\n",
       "      <td>NEAR BAY</td>\n",
       "    </tr>\n",
       "    <tr>\n",
       "      <th>4</th>\n",
       "      <td>-122.25</td>\n",
       "      <td>37.85</td>\n",
       "      <td>52.0</td>\n",
       "      <td>1627.0</td>\n",
       "      <td>280.0</td>\n",
       "      <td>565.0</td>\n",
       "      <td>259.0</td>\n",
       "      <td>3.8462</td>\n",
       "      <td>342200.0</td>\n",
       "      <td>NEAR BAY</td>\n",
       "    </tr>\n",
       "    <tr>\n",
       "      <th>...</th>\n",
       "      <td>...</td>\n",
       "      <td>...</td>\n",
       "      <td>...</td>\n",
       "      <td>...</td>\n",
       "      <td>...</td>\n",
       "      <td>...</td>\n",
       "      <td>...</td>\n",
       "      <td>...</td>\n",
       "      <td>...</td>\n",
       "      <td>...</td>\n",
       "    </tr>\n",
       "    <tr>\n",
       "      <th>20635</th>\n",
       "      <td>-121.09</td>\n",
       "      <td>39.48</td>\n",
       "      <td>25.0</td>\n",
       "      <td>1665.0</td>\n",
       "      <td>374.0</td>\n",
       "      <td>845.0</td>\n",
       "      <td>330.0</td>\n",
       "      <td>1.5603</td>\n",
       "      <td>78100.0</td>\n",
       "      <td>INLAND</td>\n",
       "    </tr>\n",
       "    <tr>\n",
       "      <th>20636</th>\n",
       "      <td>-121.21</td>\n",
       "      <td>39.49</td>\n",
       "      <td>18.0</td>\n",
       "      <td>697.0</td>\n",
       "      <td>150.0</td>\n",
       "      <td>356.0</td>\n",
       "      <td>114.0</td>\n",
       "      <td>2.5568</td>\n",
       "      <td>77100.0</td>\n",
       "      <td>INLAND</td>\n",
       "    </tr>\n",
       "    <tr>\n",
       "      <th>20637</th>\n",
       "      <td>-121.22</td>\n",
       "      <td>39.43</td>\n",
       "      <td>17.0</td>\n",
       "      <td>2254.0</td>\n",
       "      <td>485.0</td>\n",
       "      <td>1007.0</td>\n",
       "      <td>433.0</td>\n",
       "      <td>1.7000</td>\n",
       "      <td>92300.0</td>\n",
       "      <td>INLAND</td>\n",
       "    </tr>\n",
       "    <tr>\n",
       "      <th>20638</th>\n",
       "      <td>-121.32</td>\n",
       "      <td>39.43</td>\n",
       "      <td>18.0</td>\n",
       "      <td>1860.0</td>\n",
       "      <td>409.0</td>\n",
       "      <td>741.0</td>\n",
       "      <td>349.0</td>\n",
       "      <td>1.8672</td>\n",
       "      <td>84700.0</td>\n",
       "      <td>INLAND</td>\n",
       "    </tr>\n",
       "    <tr>\n",
       "      <th>20639</th>\n",
       "      <td>-121.24</td>\n",
       "      <td>39.37</td>\n",
       "      <td>16.0</td>\n",
       "      <td>2785.0</td>\n",
       "      <td>616.0</td>\n",
       "      <td>1387.0</td>\n",
       "      <td>530.0</td>\n",
       "      <td>2.3886</td>\n",
       "      <td>89400.0</td>\n",
       "      <td>INLAND</td>\n",
       "    </tr>\n",
       "  </tbody>\n",
       "</table>\n",
       "<p>20640 rows × 10 columns</p>\n",
       "</div>"
      ],
      "text/plain": [
       "       longitude  latitude  housing_median_age  total_rooms  total_bedrooms  \\\n",
       "0        -122.23     37.88                41.0        880.0           129.0   \n",
       "1        -122.22     37.86                21.0       7099.0          1106.0   \n",
       "2        -122.24     37.85                52.0       1467.0           190.0   \n",
       "3        -122.25     37.85                52.0       1274.0           235.0   \n",
       "4        -122.25     37.85                52.0       1627.0           280.0   \n",
       "...          ...       ...                 ...          ...             ...   \n",
       "20635    -121.09     39.48                25.0       1665.0           374.0   \n",
       "20636    -121.21     39.49                18.0        697.0           150.0   \n",
       "20637    -121.22     39.43                17.0       2254.0           485.0   \n",
       "20638    -121.32     39.43                18.0       1860.0           409.0   \n",
       "20639    -121.24     39.37                16.0       2785.0           616.0   \n",
       "\n",
       "       population  households  median_income  median_house_value  \\\n",
       "0           322.0       126.0         8.3252            452600.0   \n",
       "1          2401.0      1138.0         8.3014            358500.0   \n",
       "2           496.0       177.0         7.2574            352100.0   \n",
       "3           558.0       219.0         5.6431            341300.0   \n",
       "4           565.0       259.0         3.8462            342200.0   \n",
       "...           ...         ...            ...                 ...   \n",
       "20635       845.0       330.0         1.5603             78100.0   \n",
       "20636       356.0       114.0         2.5568             77100.0   \n",
       "20637      1007.0       433.0         1.7000             92300.0   \n",
       "20638       741.0       349.0         1.8672             84700.0   \n",
       "20639      1387.0       530.0         2.3886             89400.0   \n",
       "\n",
       "      ocean_proximity  \n",
       "0            NEAR BAY  \n",
       "1            NEAR BAY  \n",
       "2            NEAR BAY  \n",
       "3            NEAR BAY  \n",
       "4            NEAR BAY  \n",
       "...               ...  \n",
       "20635          INLAND  \n",
       "20636          INLAND  \n",
       "20637          INLAND  \n",
       "20638          INLAND  \n",
       "20639          INLAND  \n",
       "\n",
       "[20640 rows x 10 columns]"
      ]
     },
     "execution_count": 1,
     "metadata": {},
     "output_type": "execute_result"
    }
   ],
   "source": [
    "import pandas as pd\n",
    "df=pd.read_csv('housing.csv')\n",
    "df\n",
    "     "
   ]
  },
  {
   "cell_type": "code",
   "execution_count": 2,
   "id": "c26e2051-e110-4546-8ab8-57c12d8bf922",
   "metadata": {},
   "outputs": [
    {
     "name": "stdout",
     "output_type": "stream",
     "text": [
      "<class 'pandas.core.frame.DataFrame'>\n",
      "RangeIndex: 20640 entries, 0 to 20639\n",
      "Data columns (total 10 columns):\n",
      " #   Column              Non-Null Count  Dtype  \n",
      "---  ------              --------------  -----  \n",
      " 0   longitude           20640 non-null  float64\n",
      " 1   latitude            20640 non-null  float64\n",
      " 2   housing_median_age  20640 non-null  float64\n",
      " 3   total_rooms         20640 non-null  float64\n",
      " 4   total_bedrooms      20433 non-null  float64\n",
      " 5   population          20640 non-null  float64\n",
      " 6   households          20640 non-null  float64\n",
      " 7   median_income       20640 non-null  float64\n",
      " 8   median_house_value  20640 non-null  float64\n",
      " 9   ocean_proximity     20640 non-null  object \n",
      "dtypes: float64(9), object(1)\n",
      "memory usage: 1.6+ MB\n"
     ]
    }
   ],
   "source": [
    "df.info()"
   ]
  },
  {
   "cell_type": "code",
   "execution_count": 3,
   "id": "fe8324ed-63f1-4a35-bdd3-fc024856cef1",
   "metadata": {},
   "outputs": [
    {
     "data": {
      "text/plain": [
       "longitude               0\n",
       "latitude                0\n",
       "housing_median_age      0\n",
       "total_rooms             0\n",
       "total_bedrooms        207\n",
       "population              0\n",
       "households              0\n",
       "median_income           0\n",
       "median_house_value      0\n",
       "ocean_proximity         0\n",
       "dtype: int64"
      ]
     },
     "execution_count": 3,
     "metadata": {},
     "output_type": "execute_result"
    }
   ],
   "source": [
    "df.isnull().sum()  # Checking the null values"
   ]
  },
  {
   "cell_type": "code",
   "execution_count": 4,
   "id": "9483d844-cbd3-424c-aea9-b1e0edd4179c",
   "metadata": {},
   "outputs": [],
   "source": [
    "\n",
    "df.dropna(subset=['total_bedrooms'], inplace=True)  # Dropping Null values"
   ]
  },
  {
   "cell_type": "code",
   "execution_count": 5,
   "id": "3c2ef702-2849-45bb-84ab-bf823b013c84",
   "metadata": {},
   "outputs": [
    {
     "data": {
      "text/plain": [
       "longitude             0\n",
       "latitude              0\n",
       "housing_median_age    0\n",
       "total_rooms           0\n",
       "total_bedrooms        0\n",
       "population            0\n",
       "households            0\n",
       "median_income         0\n",
       "median_house_value    0\n",
       "ocean_proximity       0\n",
       "dtype: int64"
      ]
     },
     "execution_count": 5,
     "metadata": {},
     "output_type": "execute_result"
    }
   ],
   "source": [
    "df.isnull().sum()"
   ]
  },
  {
   "cell_type": "code",
   "execution_count": 6,
   "id": "1c51ec47-5e22-4bb4-b860-1c989c54abf8",
   "metadata": {},
   "outputs": [
    {
     "name": "stdout",
     "output_type": "stream",
     "text": [
      "Categorical: ['ocean_proximity']\n",
      "Numerical: ['longitude', 'latitude', 'housing_median_age', 'total_rooms', 'total_bedrooms', 'population', 'households', 'median_income', 'median_house_value']\n"
     ]
    }
   ],
   "source": [
    "# Separating categorical and numerical Values\n",
    "cat=[]\n",
    "num=[]\n",
    "for i in df.columns:\n",
    "  if df[i].dtype=='object':\n",
    "    cat.append(i)\n",
    "  else:\n",
    "    num.append(i)\n",
    "print('Categorical:', cat)\n",
    "print('Numerical:', num)"
   ]
  },
  {
   "cell_type": "code",
   "execution_count": 7,
   "id": "e4be553d-fcd2-44da-b343-616c854f44d9",
   "metadata": {},
   "outputs": [
    {
     "name": "stdout",
     "output_type": "stream",
     "text": [
      "longitude\n",
      "Unique Values: [-122.23 -122.22 -122.24 -122.25 -122.26 -122.27 -122.28 -122.29 -122.3\n",
      " -122.21 -122.2  -122.19 -122.18 -122.13 -122.16 -122.17 -122.15 -122.14\n",
      " -122.12 -122.33 -122.34 -122.06 -122.07 -122.08 -122.09 -122.1  -122.11\n",
      " -122.03 -121.97 -122.02 -122.04 -122.05 -121.99 -122.01 -121.96 -121.98\n",
      " -122.   -121.93 -121.94 -121.95 -121.92 -121.89 -121.91 -121.9  -121.88\n",
      " -121.87 -121.85 -121.86 -121.84 -121.82 -121.77 -121.62 -121.61 -121.72\n",
      " -121.73 -121.75 -121.8  -121.76 -121.78 -121.79 -119.78 -119.93 -120.\n",
      " -120.56 -120.59 -120.55 -120.25 -120.79 -120.8  -120.65 -120.76 -120.88\n",
      " -120.69 -120.93 -120.97 -120.87 -120.98 -120.72 -120.77 -120.66 -120.62\n",
      " -120.71 -121.83 -121.81 -121.74 -121.68 -121.54 -121.51 -121.59 -121.58\n",
      " -121.6  -121.63 -121.57 -121.65 -121.64 -121.71 -121.66 -121.56 -121.5\n",
      " -121.41 -121.39 -121.24 -121.19 -121.36 -121.46 -121.49 -121.44 -121.47\n",
      " -121.53 -121.52 -121.55 -121.67 -121.69 -121.7  -120.46 -120.54 -120.67\n",
      " -120.9  -120.91 -120.57 -120.43 -120.42 -120.41 -120.36 -120.34 -120.33\n",
      " -120.37 -120.27 -120.19 -122.51 -122.32 -122.36 -122.31 -122.39 -122.37\n",
      " -122.41 -122.35 -122.38 -122.42 -124.17 -124.3  -124.23 -124.21 -124.19\n",
      " -124.22 -124.16 -124.14 -124.15 -123.91 -123.83 -123.92 -119.94 -119.95\n",
      " -119.97 -119.98 -119.96 -119.99 -120.01 -120.02 -119.92 -120.04 -120.03\n",
      " -120.13 -120.16 -120.06 -120.1  -121.04 -120.92 -120.84 -120.81 -120.5\n",
      " -120.3  -121.09 -121.08 -121.07 -121.06 -121.   -121.01 -120.99 -121.02\n",
      " -120.95 -120.96 -120.86 -120.83 -120.78 -120.7  -120.58 -120.6  -120.63\n",
      " -120.44 -120.32 -120.08 -120.85 -119.81 -119.79 -119.8  -119.77 -119.82\n",
      " -119.83 -119.74 -119.76 -119.75 -119.69 -119.67 -119.73 -119.72 -119.71\n",
      " -119.63 -119.65 -119.68 -119.89 -119.87 -119.85 -119.84 -119.7  -119.86\n",
      " -119.9  -120.21 -120.05 -120.07 -119.91 -119.88 -119.64 -119.53 -119.58\n",
      " -119.59 -119.5  -119.57 -119.56 -119.55 -119.54 -119.52 -119.47 -119.41\n",
      " -119.43 -119.39 -119.4  -119.49 -119.61 -119.48 -119.46 -119.33 -119.21\n",
      " -118.94 -119.34 -119.28 -119.32 -118.91 -119.24 -119.25 -119.12 -119.31\n",
      " -119.44 -119.45 -119.6  -119.62 -120.09 -120.38 -120.35 -120.31 -120.18\n",
      " -120.22 -120.51 -120.39 -120.45 -122.74 -122.53 -124.18 -124.11 -124.13\n",
      " -124.05 -124.02 -124.08 -124.09 -124.07 -124.1  -124.06 -123.74 -123.76\n",
      " -123.85 -123.72 -123.63 -123.66 -123.52 -124.01 -123.98 -123.88 -124.27\n",
      " -123.96 -123.73 -124.03 -124.26 -124.35 -124.25 -124.   -123.84 -123.68\n",
      " -123.82 -123.75 -123.78 -115.52 -115.51 -115.46 -115.6  -115.73 -115.62\n",
      " -115.41 -115.59 -115.53 -115.54 -115.55 -115.56 -115.32 -115.39 -115.4\n",
      " -115.37 -115.38 -115.57 -115.49 -115.64 -115.69 -115.72 -115.58 -115.48\n",
      " -115.5  -116.05 -116.   -115.88 -115.9  -116.01 -115.99 -115.94 -115.98\n",
      " -115.91 -115.96 -115.95 -115.8  -114.73 -114.98 -114.65 -114.55 -114.63\n",
      " -114.66 -118.18 -118.43 -118.6  -118.45 -118.42 -118.4  -118.39 -118.3\n",
      " -117.9  -118.31 -118.05 -117.69 -117.02 -116.22 -119.02 -119.03 -119.05\n",
      " -119.04 -119.08 -119.07 -119.09 -119.01 -118.99 -119.   -118.97 -118.98\n",
      " -118.96 -118.95 -118.92 -118.9  -118.87 -118.88 -118.93 -119.06 -119.1\n",
      " -119.13 -119.15 -119.16 -119.42 -119.11 -119.19 -119.2  -119.18 -119.27\n",
      " -119.26 -119.38 -119.36 -119.35 -119.14 -119.29 -119.22 -119.23 -118.06\n",
      " -118.44 -118.47 -118.5  -118.59 -118.23 -118.33 -118.41 -118.48 -118.61\n",
      " -117.73 -117.66 -117.67 -117.68 -117.7  -117.64 -117.76 -117.81 -117.87\n",
      " -117.84 -117.74 -118.   -117.82 -117.79 -118.01 -117.98 -117.95 -117.99\n",
      " -118.27 -118.34 -117.65 -118.15 -118.17 -118.19 -118.16 -118.51 -118.66\n",
      " -118.46 -118.83 -118.85 -118.82 -119.66 -120.14 -120.12 -122.89 -122.9\n",
      " -122.91 -122.88 -123.07 -122.95 -122.92 -122.94 -122.99 -122.7  -122.87\n",
      " -122.86 -122.83 -122.79 -122.8  -122.78 -122.69 -122.73 -122.66 -122.65\n",
      " -122.52 -122.68 -122.63 -122.62 -122.61 -122.6  -122.64 -122.75 -122.71\n",
      " -122.85 -122.84 -122.77 -122.48 -122.59 -122.5  -122.55 -121.11 -121.03\n",
      " -120.64 -120.49 -120.2  -118.28 -118.29 -118.35 -118.32 -118.36 -118.38\n",
      " -118.49 -118.52 -118.54 -118.57 -118.53 -118.55 -118.63 -118.62 -118.64\n",
      " -118.56 -118.58 -118.37 -118.65 -118.22 -118.2  -118.21 -118.24 -118.25\n",
      " -118.26 -117.71 -117.78 -117.8  -117.83 -117.93 -117.91 -117.89 -117.88\n",
      " -117.85 -117.86 -117.77 -117.75 -117.72 -117.92 -117.94 -117.97 -117.96\n",
      " -118.02 -118.03 -118.04 -118.07 -118.08 -118.09 -118.1  -118.11 -118.12\n",
      " -118.13 -118.14 -118.69 -118.67 -118.68 -118.76 -118.75 -118.72 -118.78\n",
      " -118.8  -118.84 -118.79 -118.74 -118.86 -118.7  -119.51 -120.26 -120.29\n",
      " -120.11 -122.49 -122.54 -122.58 -122.57 -122.56 -122.44 -122.45 -122.47\n",
      " -122.46 -122.93 -122.96 -122.81 -120.15 -123.15 -123.24 -123.23 -123.47\n",
      " -123.71 -123.58 -123.5  -123.64 -123.79 -123.8  -123.34 -123.4  -123.32\n",
      " -123.38 -123.35 -123.37 -123.36 -123.1  -123.11 -123.18 -123.22 -123.21\n",
      " -123.19 -123.2  -123.81 -123.7  -123.53 -123.69 -123.59 -123.54 -123.39\n",
      " -123.17 -123.16 -120.68 -120.75 -120.74 -120.73 -120.94 -120.89 -120.61\n",
      " -120.48 -120.47 -120.24 -120.82 -121.16 -121.18 -119.3  -121.43 -121.45\n",
      " -121.42 -121.48 -121.31 -121.32 -121.33 -121.4  -121.23 -121.25 -121.26\n",
      " -121.12 -121.13 -121.2  -122.4  -121.1  -121.05 -121.22 -121.14 -121.21\n",
      " -121.15 -120.17 -120.23 -117.62 -117.6  -117.63 -117.55 -117.59 -117.58\n",
      " -117.49 -117.53 -117.61 -121.17 -121.27 -121.28 -121.3  -121.29 -120.53\n",
      " -117.35 -117.36 -117.37 -117.38 -117.39 -117.41 -117.4  -117.44 -117.43\n",
      " -117.42 -117.45 -117.5  -117.48 -117.47 -117.51 -117.52 -117.56 -117.57\n",
      " -117.46 -117.54 -117.33 -117.34 -117.26 -117.3  -117.28 -117.32 -117.31\n",
      " -117.29 -117.24 -117.23 -117.25 -117.21 -117.14 -117.27 -117.22 -117.16\n",
      " -117.13 -117.19 -117.17 -117.2  -117.07 -117.11 -117.08 -117.18 -117.06\n",
      " -117.09 -117.15 -117.12 -117.05 -116.96 -117.1  -116.99 -116.91 -116.89\n",
      " -116.95 -116.9  -116.92 -116.93 -116.94 -116.97 -116.98 -117.01 -117.\n",
      " -116.87 -116.88 -116.86 -117.04 -117.03 -116.79 -116.77 -116.81 -116.75\n",
      " -116.8  -116.71 -116.68 -116.74 -116.72 -116.48 -116.57 -116.76 -116.42\n",
      " -116.6  -116.69 -116.39 -116.51 -116.61 -116.44 -116.36 -116.52 -116.53\n",
      " -116.5  -116.47 -116.63 -116.54 -116.55 -116.49 -116.56 -116.46 -116.43\n",
      " -116.45 -116.4  -116.38 -116.33 -116.31 -116.37 -116.41 -116.29 -116.3\n",
      " -116.26 -116.25 -116.24 -116.21 -116.23 -116.2  -116.15 -116.11 -116.17\n",
      " -116.12 -115.84 -116.16 -116.19 -116.18 -116.08 -115.22 -114.67 -114.49\n",
      " -114.68 -114.56 -114.57 -114.59 -114.61 -114.6  -114.58 -114.62 -121.38\n",
      " -121.37 -121.35 -121.34 -115.93 -115.75 -116.14 -116.32 -116.27 -116.35\n",
      " -116.62 -116.73 -116.06 -116.09 -116.02 -115.85 -114.94 -114.47 -114.31\n",
      " -114.64 -116.85 -116.83 -116.82 -116.84 -116.78 -116.58 -116.66 -116.67\n",
      " -116.34 -116.28 -122.43 -120.52 -120.4  -122.76 -123.26 -123.41 -123.08\n",
      " -122.67 -122.72 -122.82 -123.04 -123.02 -122.98 -123.01 -123.   -122.97\n",
      " -123.03 -123.49 -123.25 -123.48 -123.28 -123.13 -123.12 -123.43 -119.37\n",
      " -118.73 -120.28 -119.17 -118.89 -118.81 -118.77 -118.71]\n",
      "Number of unique: 844\n",
      "\n",
      "\n",
      "latitude\n",
      "Unique Values: [37.88 37.86 37.85 37.84 37.83 37.82 37.81 37.8  37.79 37.77 37.78 37.76\n",
      " 37.75 37.74 37.73 37.9  37.89 37.87 37.72 37.71 37.7  37.69 37.68 37.64\n",
      " 37.63 37.66 37.65 37.67 37.61 37.62 37.6  37.59 37.58 37.57 37.49 37.52\n",
      " 37.56 37.55 37.54 37.53 37.51 37.48 37.47 37.5  38.69 38.72 38.52 38.48\n",
      " 38.45 38.46 38.43 38.55 38.54 38.51 38.5  38.47 38.44 38.42 38.37 38.34\n",
      " 38.32 38.26 38.38 38.4  38.39 38.36 38.31 39.76 39.78 39.77 39.74 39.75\n",
      " 39.73 39.71 39.72 39.7  39.82 39.79 39.68 39.64 39.59 39.88 40.06 39.97\n",
      " 39.86 39.83 39.8  39.66 39.69 39.61 39.65 39.55 39.52 39.53 39.6  39.54\n",
      " 39.5  39.49 39.51 39.48 39.47 39.45 39.44 39.43 39.4  39.39 39.33 39.37\n",
      " 39.35 39.34 39.32 39.36 39.38 39.42 39.41 38.15 38.12 38.09 38.07 37.97\n",
      " 38.24 38.2  38.16 38.11 38.28 38.19 38.25 38.41 38.33 38.35 38.21 38.23\n",
      " 38.29 39.03 38.99 39.   39.15 39.22 39.25 39.1  39.13 39.31 39.3  39.21\n",
      " 38.03 38.04 38.   37.98 37.99 37.93 37.94 37.95 37.96 37.91 38.01 38.02\n",
      " 38.05 37.92 38.06 41.8  41.75 41.77 41.78 41.73 41.76 41.74 41.95 41.92\n",
      " 41.84 41.81 41.68 41.88 41.54 38.96 38.95 38.94 38.93 38.92 38.91 38.89\n",
      " 38.9  38.88 38.87 38.84 38.76 38.86 39.06 39.04 39.01 38.81 38.83 38.85\n",
      " 38.68 38.67 38.66 38.7  38.58 38.73 38.65 38.62 38.79 38.77 38.71 38.75\n",
      " 38.74 38.6  38.61 38.57 38.53 38.8  38.63 36.73 36.74 36.72 36.75 36.71\n",
      " 36.7  36.68 36.69 36.65 36.64 36.62 36.63 36.59 36.77 36.76 36.8  36.79\n",
      " 36.81 36.78 36.66 36.83 36.85 36.82 36.84 36.86 36.91 36.87 36.94 36.88\n",
      " 36.89 37.1  37.02 37.   37.25 37.13 37.09 37.12 37.11 37.06 36.61 36.6\n",
      " 36.58 36.57 36.56 36.55 36.52 36.51 36.53 36.44 36.46 36.43 36.54 36.45\n",
      " 36.34 36.16 36.21 36.19 36.29 36.18 36.14 36.15 36.13 36.49 36.97 40.8\n",
      " 40.79 40.78 40.77 40.75 40.76 40.81 40.85 40.86 40.87 40.88 40.9  40.66\n",
      " 40.91 41.03 41.32 41.09 41.11 41.3  41.01 41.36 41.13 41.06 41.04 40.97\n",
      " 40.89 40.93 41.02 40.99 40.95 40.94 40.92 40.72 40.73 40.74 40.67 40.69\n",
      " 40.62 40.6  40.59 40.55 40.57 40.48 40.58 40.5  40.44 40.47 40.45 40.54\n",
      " 40.28 40.22 40.24 40.16 40.12 40.11 40.05 33.12 33.13 33.19 33.24 33.2\n",
      " 33.09 33.04 32.99 32.96 32.98 32.97 32.82 32.76 32.86 32.81 32.85 32.84\n",
      " 32.83 32.87 32.8  32.79 32.75 32.77 32.73 32.78 32.69 32.7  32.67 32.68\n",
      " 33.33 32.93 32.74 33.41 33.4  33.38 33.32 33.36 33.34 33.3  33.28 33.26\n",
      " 33.43 33.07 33.35 37.35 37.4  37.39 37.37 37.36 37.17 36.95 36.4  36.\n",
      " 35.42 35.45 35.44 35.43 35.41 35.4  35.39 35.38 35.37 35.34 35.36 35.35\n",
      " 35.32 35.33 35.3  35.31 35.27 35.22 35.24 35.28 34.82 34.83 34.81 34.95\n",
      " 35.06 35.07 35.19 35.17 35.16 35.14 35.15 35.13 35.5  35.52 35.49 35.51\n",
      " 35.6  35.55 35.58 35.59 35.62 35.65 35.76 35.64 35.68 35.67 35.78 35.77\n",
      " 35.75 35.79 35.74 35.47 35.72 35.7  35.48 35.63 35.61 35.73 35.54 35.05\n",
      " 35.03 35.21 35.12 35.08 35.1  34.92 34.86 34.99 35.   34.87 35.04 35.2\n",
      " 35.26 35.23 36.41 36.37 36.38 36.32 36.31 36.3  36.33 36.27 36.28 36.35\n",
      " 36.36 36.25 36.11 36.09 36.1  36.08 36.2  35.99 36.02 36.04 36.01 35.87\n",
      " 35.91 39.23 39.18 39.17 39.14 39.12 39.11 39.09 39.08 39.02 39.07 39.05\n",
      " 38.98 38.97 38.82 38.78 41.07 41.12 40.98 40.63 40.65 40.51 40.35 40.43\n",
      " 40.42 40.41 40.36 40.37 40.38 40.29 40.31 40.17 40.26 39.92 34.27 34.26\n",
      " 34.25 34.24 34.22 34.21 34.28 34.29 34.32 34.33 34.31 34.3  34.23 34.2\n",
      " 34.19 34.18 34.17 34.16 34.15 34.14 34.13 34.12 34.11 34.1  34.09 34.08\n",
      " 34.07 34.06 34.05 34.04 34.03 34.02 34.01 34.   33.99 33.98 33.97 33.94\n",
      " 33.95 33.96 33.93 33.92 33.91 33.9  33.88 33.89 33.87 33.86 33.85 33.84\n",
      " 33.83 33.82 33.81 33.8  33.79 33.78 33.77 33.76 33.75 33.74 33.73 33.72\n",
      " 33.69 33.71 33.67 33.68 34.71 34.63 34.58 34.74 34.68 34.69 34.65 34.7\n",
      " 34.67 34.72 34.76 34.77 34.66 34.62 34.73 34.59 34.57 34.53 34.61 34.6\n",
      " 34.56 34.64 34.55 34.51 34.43 34.41 34.52 34.5  34.46 34.44 34.49 34.48\n",
      " 34.45 34.4  34.47 34.42 34.39 34.38 34.37 34.36 37.34 37.32 37.29 37.21\n",
      " 37.38 37.31 37.33 37.23 37.19 37.27 37.04 36.99 36.93 36.98 36.96 36.9\n",
      " 36.92 38.1  38.14 38.13 38.08 38.18 37.43 37.46 39.81 39.67 39.46 39.26\n",
      " 39.28 39.2  39.16 37.44 37.42 37.41 37.2  37.26 37.16 37.3  37.28 37.18\n",
      " 37.01 37.08 37.07 37.05 37.03 41.31 41.35 41.82 41.79 41.4  41.61 36.67\n",
      " 36.5  36.47 36.48 36.42 36.24 35.95 35.94 36.06 38.3  38.27 38.22 38.17\n",
      " 38.49 38.56 38.59 39.24 39.19 39.27 39.29 33.61 33.62 33.6  33.63 33.59\n",
      " 33.58 33.57 33.65 33.64 33.54 33.55 33.56 33.51 33.52 33.66 33.53 33.42\n",
      " 33.47 33.45 33.46 33.44 33.48 33.49 33.5  33.7  39.93 39.9  39.95 39.96\n",
      " 40.02 40.08 40.14 40.01 40.13 40.27 40.23 40.19 40.3  40.25 38.64 34.54\n",
      " 34.34 34.91 34.9  34.89 34.35 34.85 34.84 34.98 34.75 34.88 34.94 34.96\n",
      " 32.72 32.71 32.66 32.88 32.92 32.89 32.91 32.9  32.94 32.95 32.59 32.58\n",
      " 32.57 32.56 32.55 32.54 32.63 32.65 32.64 32.62 32.61 32.6  33.01 33.\n",
      " 33.02 33.03 33.05 33.06 33.08 33.17 33.16 33.15 33.1  33.11 33.18 33.14\n",
      " 33.21 33.23 33.22 33.25 33.31 33.29 33.39 33.37 33.27 35.69 35.56 35.29\n",
      " 35.25 35.11 35.18 35.02 35.46 37.45 37.24 34.93 34.97 37.22 37.15 37.14\n",
      " 40.56 40.61 40.64 40.52 40.53 40.49 40.71 40.68 40.46 40.4  40.39 40.82\n",
      " 39.56 39.63 41.86 41.66 41.6  41.7  41.69 41.72 41.63 41.53 41.48 41.46\n",
      " 41.26 41.43 41.41 41.38 41.28 41.21 41.23 41.2  41.5  40.09 40.2  40.34\n",
      " 40.32 40.18 40.15 40.07 39.94 39.91 41.15 36.39 36.22 36.23 36.12 35.82\n",
      " 35.9  36.05 36.07 35.97 35.96 35.86 35.85 35.89 35.88]\n",
      "Number of unique: 861\n",
      "\n",
      "\n",
      "housing_median_age\n",
      "Unique Values: [41. 21. 52. 42. 50. 40. 49. 48. 51. 43.  2. 46. 26. 20. 17. 36. 19. 23.\n",
      " 38. 35. 10. 16. 27. 39. 31. 29. 22. 37. 28. 34. 32. 47. 44. 30. 18. 45.\n",
      " 33. 24. 15. 14. 13. 25.  5. 12.  6.  8.  9.  7.  3.  4. 11.  1.]\n",
      "Number of unique: 52\n",
      "\n",
      "\n",
      "total_rooms\n",
      "Unique Values: [  880.  7099.  1467. ...  4598.   272. 10035.]\n",
      "Number of unique: 5911\n",
      "\n",
      "\n",
      "total_bedrooms\n",
      "Unique Values: [ 129. 1106.  190. ... 3008. 1857. 1052.]\n",
      "Number of unique: 1923\n",
      "\n",
      "\n",
      "population\n",
      "Unique Values: [ 322. 2401.  496. ... 3060. 2707. 6912.]\n",
      "Number of unique: 3879\n",
      "\n",
      "\n",
      "households\n",
      "Unique Values: [ 126. 1138.  177. ... 1767. 1832. 1818.]\n",
      "Number of unique: 1809\n",
      "\n",
      "\n",
      "median_income\n",
      "Unique Values: [8.3252 8.3014 7.2574 ... 2.3598 2.3661 2.0943]\n",
      "Number of unique: 12825\n",
      "\n",
      "\n",
      "median_house_value\n",
      "Unique Values: [452600. 358500. 352100. ... 425800. 200700.  47000.]\n",
      "Number of unique: 3833\n",
      "\n",
      "\n",
      "ocean_proximity\n",
      "Unique Values: ['NEAR BAY' '<1H OCEAN' 'INLAND' 'NEAR OCEAN' 'ISLAND']\n",
      "Number of unique: 5\n",
      "\n",
      "\n"
     ]
    }
   ],
   "source": [
    "# Treating Categorical Values\n",
    "for i in df:\n",
    "  print(i)\n",
    "  print('Unique Values:', df[i].unique())     # Finding unique values\n",
    "  print('Number of unique:', df[i].nunique())\n",
    "  print()\n",
    "  print()"
   ]
  },
  {
   "cell_type": "code",
   "execution_count": 8,
   "id": "e540d994-9892-4634-8ba9-a87968e416ab",
   "metadata": {},
   "outputs": [
    {
     "data": {
      "image/png": "[encoded data removed]",
      "text/plain": [
       "<Figure size 640x480 with 1 Axes>"
      ]
     },
     "metadata": {},
     "output_type": "display_data"
    }
   ],
   "source": [
    "import matplotlib.pyplot as plt\n",
    "import seaborn as sns\n",
    "def cat_analysis(col):\n",
    "  df[col].value_counts()\n",
    "  sns.countplot(x=col,data=df)\n",
    "  plt.show()\n",
    "\n",
    "for i in cat:\n",
    "  cat_analysis(i)"
   ]
  },
  {
   "cell_type": "code",
   "execution_count": 9,
   "id": "72e5672f-e442-4d2e-95e2-1f3471eff01a",
   "metadata": {},
   "outputs": [],
   "source": [
    "def outlier_detection_treatment(col):\n",
    "    q1 = df[col].quantile(0.25)\n",
    "    q3 = df[col].quantile(0.75)\n",
    "    iqr = q3 - q1\n",
    "    lf = q1 - 1.5 * iqr\n",
    "    uf = q3 + 1.5 * iqr\n",
    "\n",
    "    # Identify outliers\n",
    "    outliers = df[(df[col] < lf) | (df[col] > uf)]\n",
    "    print(\"Percentage of outliers in\", col, \":\", round(outliers.shape[0] * 100 / df.shape[0], 2), \"%\")\n",
    "\n",
    "    # Visualization\n",
    "    fig, ax = plt.subplots(1, 2, figsize=(12, 4))\n",
    "    ax[0].boxplot(df[col])\n",
    "    ax[1].hist(df[col])\n",
    "    plt.suptitle(col)\n",
    "    plt.show()\n",
    "\n",
    "    # Treat outliers with median\n",
    "    df.loc[(df[col] < lf) | (df[col] > uf), col] = df[col].median()\n",
    "\n"
   ]
  },
  {
   "cell_type": "code",
   "execution_count": 10,
   "id": "89d4c2b4-0465-4d51-9bd4-f88c17237737",
   "metadata": {},
   "outputs": [
    {
     "name": "stdout",
     "output_type": "stream",
     "text": [
      "Percentage of outliers in longitude : 0.0 %\n"
     ]
    },
    {
     "data": {
      "image/png": "[encoded data removed]",
      "text/plain": [
       "<Figure size 1200x400 with 2 Axes>"
      ]
     },
     "metadata": {},
     "output_type": "display_data"
    },
    {
     "name": "stdout",
     "output_type": "stream",
     "text": [
      "+++====+++\n",
      "Percentage of outliers in latitude : 0.0 %\n"
     ]
    },
    {
     "data": {
      "image/png": "[encoded data removed]",
      "text/plain": [
       "<Figure size 1200x400 with 2 Axes>"
      ]
     },
     "metadata": {},
     "output_type": "display_data"
    },
    {
     "name": "stdout",
     "output_type": "stream",
     "text": [
      "+++====+++\n",
      "Percentage of outliers in housing_median_age : 0.0 %\n"
     ]
    },
    {
     "data": {
      "image/png": "[encoded data removed]",
      "text/plain": [
       "<Figure size 1200x400 with 2 Axes>"
      ]
     },
     "metadata": {},
     "output_type": "display_data"
    },
    {
     "name": "stdout",
     "output_type": "stream",
     "text": [
      "+++====+++\n",
      "Percentage of outliers in total_rooms : 6.31 %\n"
     ]
    },
    {
     "data": {
      "image/png": "[encoded data removed]",
      "text/plain": [
       "<Figure size 1200x400 with 2 Axes>"
      ]
     },
     "metadata": {},
     "output_type": "display_data"
    },
    {
     "name": "stdout",
     "output_type": "stream",
     "text": [
      "+++====+++\n",
      "Percentage of outliers in total_bedrooms : 6.22 %\n"
     ]
    },
    {
     "data": {
      "image/png": "[encoded data removed]",
      "text/plain": [
       "<Figure size 1200x400 with 2 Axes>"
      ]
     },
     "metadata": {},
     "output_type": "display_data"
    },
    {
     "name": "stdout",
     "output_type": "stream",
     "text": [
      "+++====+++\n",
      "Percentage of outliers in population : 5.82 %\n"
     ]
    },
    {
     "data": {
      "image/png": "[encoded data removed]",
      "text/plain": [
       "<Figure size 1200x400 with 2 Axes>"
      ]
     },
     "metadata": {},
     "output_type": "display_data"
    },
    {
     "name": "stdout",
     "output_type": "stream",
     "text": [
      "+++====+++\n",
      "Percentage of outliers in households : 5.92 %\n"
     ]
    },
    {
     "data": {
      "image/png": "[encoded data removed]",
      "text/plain": [
       "<Figure size 1200x400 with 2 Axes>"
      ]
     },
     "metadata": {},
     "output_type": "display_data"
    },
    {
     "name": "stdout",
     "output_type": "stream",
     "text": [
      "+++====+++\n",
      "Percentage of outliers in median_income : 3.28 %\n"
     ]
    },
    {
     "data": {
      "image/png": "[encoded data removed]",
      "text/plain": [
       "<Figure size 1200x400 with 2 Axes>"
      ]
     },
     "metadata": {},
     "output_type": "display_data"
    },
    {
     "name": "stdout",
     "output_type": "stream",
     "text": [
      "+++====+++\n",
      "Percentage of outliers in median_house_value : 5.21 %\n"
     ]
    },
    {
     "data": {
      "image/png": "[encoded data removed]",
      "text/plain": [
       "<Figure size 1200x400 with 2 Axes>"
      ]
     },
     "metadata": {},
     "output_type": "display_data"
    },
    {
     "name": "stdout",
     "output_type": "stream",
     "text": [
      "+++====+++\n"
     ]
    }
   ],
   "source": [
    "for col in num:\n",
    "    outlier_detection_treatment(col)\n",
    "    print(\"+++====+++\")"
   ]
  },
  {
   "cell_type": "code",
   "execution_count": 11,
   "id": "7a612b17-7c42-4204-8e00-f19ccdb59570",
   "metadata": {},
   "outputs": [],
   "source": [
    "df = df.reset_index(drop=True)"
   ]
  },
  {
   "cell_type": "markdown",
   "id": "b754667c-88aa-41d3-8e7a-9c7f7e8650eb",
   "metadata": {},
   "source": [
    "Encoding the Categorical Data"
   ]
  },
  {
   "cell_type": "code",
   "execution_count": 12,
   "id": "9112ed07-3d51-45df-aa3f-aab8eb9381bd",
   "metadata": {},
   "outputs": [],
   "source": [
    "from sklearn.preprocessing import OneHotEncoder"
   ]
  },
  {
   "cell_type": "code",
   "execution_count": 13,
   "id": "8a51c195-f541-4ead-83dc-9eeae1c8d95b",
   "metadata": {},
   "outputs": [],
   "source": [
    "ohe_ocean = OneHotEncoder(sparse_output=False)\n",
    "ocean_arr = ohe_ocean.fit_transform(df[['ocean_proximity']])\n",
    "ocean = pd.DataFrame(ocean_arr, columns=ohe_ocean.get_feature_names_out(['ocean_proximity']))"
   ]
  },
  {
   "cell_type": "code",
   "execution_count": 14,
   "id": "7c72f914-c101-485f-ba38-e0c7b1e7f6ab",
   "metadata": {},
   "outputs": [
    {
     "name": "stdout",
     "output_type": "stream",
     "text": [
      "Index(['ocean_proximity_<1H OCEAN', 'ocean_proximity_INLAND',\n",
      "       'ocean_proximity_ISLAND', 'ocean_proximity_NEAR BAY',\n",
      "       'ocean_proximity_NEAR OCEAN'],\n",
      "      dtype='object')\n"
     ]
    }
   ],
   "source": [
    "print(ocean.columns)"
   ]
  },
  {
   "cell_type": "code",
   "execution_count": 15,
   "id": "36b32ac3-e06b-42b9-9394-40b69db5d760",
   "metadata": {},
   "outputs": [],
   "source": [
    "ocean = ocean.drop('ocean_proximity_ISLAND', axis=1)"
   ]
  },
  {
   "cell_type": "code",
   "execution_count": 16,
   "id": "dc7cb2df-f98a-4438-9883-14a2ee90a07f",
   "metadata": {},
   "outputs": [
    {
     "data": {
      "text/html": [
       "<div>\n",
       "<style scoped>\n",
       "    .dataframe tbody tr th:only-of-type {\n",
       "        vertical-align: middle;\n",
       "    }\n",
       "\n",
       "    .dataframe tbody tr th {\n",
       "        vertical-align: top;\n",
       "    }\n",
       "\n",
       "    .dataframe thead th {\n",
       "        text-align: right;\n",
       "    }\n",
       "</style>\n",
       "<table border=\"1\" class=\"dataframe\">\n",
       "  <thead>\n",
       "    <tr style=\"text-align: right;\">\n",
       "      <th></th>\n",
       "      <th>ocean_proximity_&lt;1H OCEAN</th>\n",
       "      <th>ocean_proximity_INLAND</th>\n",
       "      <th>ocean_proximity_NEAR BAY</th>\n",
       "      <th>ocean_proximity_NEAR OCEAN</th>\n",
       "    </tr>\n",
       "  </thead>\n",
       "  <tbody>\n",
       "    <tr>\n",
       "      <th>0</th>\n",
       "      <td>0.0</td>\n",
       "      <td>0.0</td>\n",
       "      <td>1.0</td>\n",
       "      <td>0.0</td>\n",
       "    </tr>\n",
       "    <tr>\n",
       "      <th>1</th>\n",
       "      <td>0.0</td>\n",
       "      <td>0.0</td>\n",
       "      <td>1.0</td>\n",
       "      <td>0.0</td>\n",
       "    </tr>\n",
       "    <tr>\n",
       "      <th>2</th>\n",
       "      <td>0.0</td>\n",
       "      <td>0.0</td>\n",
       "      <td>1.0</td>\n",
       "      <td>0.0</td>\n",
       "    </tr>\n",
       "    <tr>\n",
       "      <th>3</th>\n",
       "      <td>0.0</td>\n",
       "      <td>0.0</td>\n",
       "      <td>1.0</td>\n",
       "      <td>0.0</td>\n",
       "    </tr>\n",
       "    <tr>\n",
       "      <th>4</th>\n",
       "      <td>0.0</td>\n",
       "      <td>0.0</td>\n",
       "      <td>1.0</td>\n",
       "      <td>0.0</td>\n",
       "    </tr>\n",
       "    <tr>\n",
       "      <th>...</th>\n",
       "      <td>...</td>\n",
       "      <td>...</td>\n",
       "      <td>...</td>\n",
       "      <td>...</td>\n",
       "    </tr>\n",
       "    <tr>\n",
       "      <th>20428</th>\n",
       "      <td>0.0</td>\n",
       "      <td>1.0</td>\n",
       "      <td>0.0</td>\n",
       "      <td>0.0</td>\n",
       "    </tr>\n",
       "    <tr>\n",
       "      <th>20429</th>\n",
       "      <td>0.0</td>\n",
       "      <td>1.0</td>\n",
       "      <td>0.0</td>\n",
       "      <td>0.0</td>\n",
       "    </tr>\n",
       "    <tr>\n",
       "      <th>20430</th>\n",
       "      <td>0.0</td>\n",
       "      <td>1.0</td>\n",
       "      <td>0.0</td>\n",
       "      <td>0.0</td>\n",
       "    </tr>\n",
       "    <tr>\n",
       "      <th>20431</th>\n",
       "      <td>0.0</td>\n",
       "      <td>1.0</td>\n",
       "      <td>0.0</td>\n",
       "      <td>0.0</td>\n",
       "    </tr>\n",
       "    <tr>\n",
       "      <th>20432</th>\n",
       "      <td>0.0</td>\n",
       "      <td>1.0</td>\n",
       "      <td>0.0</td>\n",
       "      <td>0.0</td>\n",
       "    </tr>\n",
       "  </tbody>\n",
       "</table>\n",
       "<p>20433 rows × 4 columns</p>\n",
       "</div>"
      ],
      "text/plain": [
       "       ocean_proximity_<1H OCEAN  ocean_proximity_INLAND  \\\n",
       "0                            0.0                     0.0   \n",
       "1                            0.0                     0.0   \n",
       "2                            0.0                     0.0   \n",
       "3                            0.0                     0.0   \n",
       "4                            0.0                     0.0   \n",
       "...                          ...                     ...   \n",
       "20428                        0.0                     1.0   \n",
       "20429                        0.0                     1.0   \n",
       "20430                        0.0                     1.0   \n",
       "20431                        0.0                     1.0   \n",
       "20432                        0.0                     1.0   \n",
       "\n",
       "       ocean_proximity_NEAR BAY  ocean_proximity_NEAR OCEAN  \n",
       "0                           1.0                         0.0  \n",
       "1                           1.0                         0.0  \n",
       "2                           1.0                         0.0  \n",
       "3                           1.0                         0.0  \n",
       "4                           1.0                         0.0  \n",
       "...                         ...                         ...  \n",
       "20428                       0.0                         0.0  \n",
       "20429                       0.0                         0.0  \n",
       "20430                       0.0                         0.0  \n",
       "20431                       0.0                         0.0  \n",
       "20432                       0.0                         0.0  \n",
       "\n",
       "[20433 rows x 4 columns]"
      ]
     },
     "execution_count": 16,
     "metadata": {},
     "output_type": "execute_result"
    }
   ],
   "source": [
    "ocean"
   ]
  },
  {
   "cell_type": "markdown",
   "id": "3ad914d7-17a4-4869-9fcc-f1b2d3314351",
   "metadata": {},
   "source": [
    "Splitting the Independent and Dependent Variables"
   ]
  },
  {
   "cell_type": "code",
   "execution_count": 17,
   "id": "a2c8ebf6-9bcd-4aa4-98b1-839f951e4d8f",
   "metadata": {},
   "outputs": [],
   "source": [
    "x=df.drop(['ocean_proximity', 'median_house_value'],axis=1)\n",
    "y=df['median_house_value']\n",
    "     "
   ]
  },
  {
   "cell_type": "code",
   "execution_count": 18,
   "id": "588794c1-7e1f-41ee-b9c1-e44e7f04be2c",
   "metadata": {},
   "outputs": [
    {
     "data": {
      "text/plain": [
       "(20433, 8)"
      ]
     },
     "execution_count": 18,
     "metadata": {},
     "output_type": "execute_result"
    }
   ],
   "source": [
    "x.shape"
   ]
  },
  {
   "cell_type": "code",
   "execution_count": 19,
   "id": "17eeab9c-9b0d-4340-b6ab-3c451b1173d8",
   "metadata": {},
   "outputs": [],
   "source": [
    "\n",
    "x=pd.concat([x,ocean],axis=1)"
   ]
  },
  {
   "cell_type": "code",
   "execution_count": 20,
   "id": "90c2939b-51e3-469a-9c18-5c2fbef301d2",
   "metadata": {},
   "outputs": [
    {
     "data": {
      "text/plain": [
       "(20433, 12)"
      ]
     },
     "execution_count": 20,
     "metadata": {},
     "output_type": "execute_result"
    }
   ],
   "source": [
    "x.shape\n"
   ]
  },
  {
   "cell_type": "code",
   "execution_count": 21,
   "id": "f436b2fb-7eea-41a6-ba79-0fa4f71f88b4",
   "metadata": {},
   "outputs": [],
   "source": [
    "x=x.values\n",
    "y=y.values"
   ]
  },
  {
   "cell_type": "code",
   "execution_count": 22,
   "id": "b2b4277d-9005-46a0-bf8e-139a1ff4b952",
   "metadata": {},
   "outputs": [
    {
     "data": {
      "text/plain": [
       "(20433,)"
      ]
     },
     "execution_count": 22,
     "metadata": {},
     "output_type": "execute_result"
    }
   ],
   "source": [
    "y.shape"
   ]
  },
  {
   "cell_type": "markdown",
   "id": "75a3e5eb-d42e-43c3-b1d0-fc9f1b0c5b68",
   "metadata": {},
   "source": [
    "Segmenting Training and Testing Data"
   ]
  },
  {
   "cell_type": "code",
   "execution_count": 23,
   "id": "607d4b43-1fb6-4c5e-9f04-5951cc1c4610",
   "metadata": {},
   "outputs": [
    {
     "data": {
      "text/plain": [
       "(6130,)"
      ]
     },
     "execution_count": 23,
     "metadata": {},
     "output_type": "execute_result"
    }
   ],
   "source": [
    "from sklearn.model_selection import train_test_split\n",
    "x_train,x_test,y_train,y_test=train_test_split(x,y,test_size=0.3,random_state=10)\n",
    "y_test.shape"
   ]
  },
  {
   "cell_type": "code",
   "execution_count": 24,
   "id": "ba3a0352-be02-45b5-8de2-0e50771601fe",
   "metadata": {},
   "outputs": [
    {
     "data": {
      "text/plain": [
       "(14303, 12)"
      ]
     },
     "execution_count": 24,
     "metadata": {},
     "output_type": "execute_result"
    }
   ],
   "source": [
    "x_train.shape"
   ]
  },
  {
   "cell_type": "markdown",
   "id": "ee52724c-78ef-4931-85bd-2499624a6a25",
   "metadata": {},
   "source": [
    "Applying Linear Regression Model"
   ]
  },
  {
   "cell_type": "code",
   "execution_count": 25,
   "id": "43daf338-eccf-4861-8a62-21bd4f95943d",
   "metadata": {},
   "outputs": [
    {
     "name": "stdout",
     "output_type": "stream",
     "text": [
      "Model saved as 'model.pkl'\n",
      "Training Data Evaluation\n",
      "Mean Squared Error: 4299349797.790157\n",
      "R^2 Score: 0.5066397138653298\n",
      "\n",
      "Testing Data Evaluation\n",
      "Mean Squared Error: 4205775792.7677445\n",
      "R^2 Score: 0.502008645133664\n"
     ]
    }
   ],
   "source": [
    "import pickle\n",
    "from sklearn.linear_model import LinearRegression\n",
    "from sklearn.metrics import mean_squared_error, r2_score\n",
    "model = LinearRegression()\n",
    "model.fit(x_train, y_train)\n",
    "y_pred_train_lr = model.predict(x_train)\n",
    "y_pred_test_lr = model.predict(x_test)\n",
    "\n",
    "with open('model.pkl', 'wb') as f:\n",
    "    pickle.dump(model, f)\n",
    "print(\"Model saved as 'model.pkl'\")\n",
    "\n",
    "print('Training Data Evaluation')\n",
    "print(\"Mean Squared Error:\", mean_squared_error(y_train, y_pred_train_lr))\n",
    "print(\"R^2 Score:\", r2_score(y_train, y_pred_train_lr))\n",
    "\n",
    "print('\\nTesting Data Evaluation')\n",
    "print(\"Mean Squared Error:\", mean_squared_error(y_test, y_pred_test_lr))\n",
    "print(\"R^2 Score:\", r2_score(y_test, y_pred_test_lr))\n"
   ]
  },
  {
   "cell_type": "markdown",
   "id": "cac1f41c-7c4d-4b41-aef7-6dd944001d68",
   "metadata": {},
   "source": [
    "Applying Polynomial Regression Model"
   ]
  },
  {
   "cell_type": "code",
   "execution_count": 26,
   "id": "6ead4102-5bc0-4647-909f-f1f5abac1238",
   "metadata": {},
   "outputs": [
    {
     "name": "stdout",
     "output_type": "stream",
     "text": [
      "Training Data Evaluation:\n",
      "Mean Squared Error: 3364132125.4300823\n",
      "R^2 Score: 0.6139580945820893\n",
      "\n",
      "Testing Data Evaluation:\n",
      "Mean Squared Error: 3437973553.7346215\n",
      "R^2 Score: 0.592921450790831\n"
     ]
    }
   ],
   "source": [
    "from sklearn.preprocessing import PolynomialFeatures\n",
    "degree = 3\n",
    "poly = PolynomialFeatures(degree=degree)\n",
    "X_poly_train = poly.fit_transform(x_train)\n",
    "X_poly_test = poly.transform(x_test)\n",
    "model = LinearRegression()\n",
    "model.fit(X_poly_train, y_train)\n",
    "\n",
    "y_train_pred = model.predict(X_poly_train)\n",
    "y_test_pred = model.predict(X_poly_test)\n",
    "\n",
    "# Evaluate the model\n",
    "print(\"Training Data Evaluation:\")\n",
    "print(\"Mean Squared Error:\", mean_squared_error(y_train, y_train_pred))\n",
    "print(\"R^2 Score:\", r2_score(y_train, y_train_pred))\n",
    "\n",
    "print(\"\\nTesting Data Evaluation:\")\n",
    "print(\"Mean Squared Error:\", mean_squared_error(y_test, y_test_pred))\n",
    "print(\"R^2 Score:\", r2_score(y_test, y_test_pred))"
   ]
  },
  {
   "cell_type": "markdown",
   "id": "8d896b33-9d55-44df-9ed4-243c545dd8bb",
   "metadata": {},
   "source": [
    "Applying Support Vector Regressor Mode"
   ]
  },
  {
   "cell_type": "code",
   "execution_count": 31,
   "id": "e9c23efa-9060-4081-bf42-c351a61b68f5",
   "metadata": {},
   "outputs": [
    {
     "name": "stdout",
     "output_type": "stream",
     "text": [
      "Fitting 3 folds for each of 10 candidates, totalling 30 fits\n"
     ]
    },
    {
     "data": {
      "text/html": [
       "<style>#sk-container-id-3 {\n",
       "  /* Definition of color scheme common for light and dark mode */\n",
       "  --sklearn-color-text: black;\n",
       "  --sklearn-color-line: gray;\n",
       "  /* Definition of color scheme for unfitted estimators */\n",
       "  --sklearn-color-unfitted-level-0: #fff5e6;\n",
       "  --sklearn-color-unfitted-level-1: #f6e4d2;\n",
       "  --sklearn-color-unfitted-level-2: #ffe0b3;\n",
       "  --sklearn-color-unfitted-level-3: chocolate;\n",
       "  /* Definition of color scheme for fitted estimators */\n",
       "  --sklearn-color-fitted-level-0: #f0f8ff;\n",
       "  --sklearn-color-fitted-level-1: #d4ebff;\n",
       "  --sklearn-color-fitted-level-2: #b3dbfd;\n",
       "  --sklearn-color-fitted-level-3: cornflowerblue;\n",
       "\n",
       "  /* Specific color for light theme */\n",
       "  --sklearn-color-text-on-default-background: var(--sg-text-color, var(--theme-code-foreground, var(--jp-content-font-color1, black)));\n",
       "  --sklearn-color-background: var(--sg-background-color, var(--theme-background, var(--jp-layout-color0, white)));\n",
       "  --sklearn-color-border-box: var(--sg-text-color, var(--theme-code-foreground, var(--jp-content-font-color1, black)));\n",
       "  --sklearn-color-icon: #696969;\n",
       "\n",
       "  @media (prefers-color-scheme: dark) {\n",
       "    /* Redefinition of color scheme for dark theme */\n",
       "    --sklearn-color-text-on-default-background: var(--sg-text-color, var(--theme-code-foreground, var(--jp-content-font-color1, white)));\n",
       "    --sklearn-color-background: var(--sg-background-color, var(--theme-background, var(--jp-layout-color0, #111)));\n",
       "    --sklearn-color-border-box: var(--sg-text-color, var(--theme-code-foreground, var(--jp-content-font-color1, white)));\n",
       "    --sklearn-color-icon: #878787;\n",
       "  }\n",
       "}\n",
       "\n",
       "#sk-container-id-3 {\n",
       "  color: var(--sklearn-color-text);\n",
       "}\n",
       "\n",
       "#sk-container-id-3 pre {\n",
       "  padding: 0;\n",
       "}\n",
       "\n",
       "#sk-container-id-3 input.sk-hidden--visually {\n",
       "  border: 0;\n",
       "  clip: rect(1px 1px 1px 1px);\n",
       "  clip: rect(1px, 1px, 1px, 1px);\n",
       "  height: 1px;\n",
       "  margin: -1px;\n",
       "  overflow: hidden;\n",
       "  padding: 0;\n",
       "  position: absolute;\n",
       "  width: 1px;\n",
       "}\n",
       "\n",
       "#sk-container-id-3 div.sk-dashed-wrapped {\n",
       "  border: 1px dashed var(--sklearn-color-line);\n",
       "  margin: 0 0.4em 0.5em 0.4em;\n",
       "  box-sizing: border-box;\n",
       "  padding-bottom: 0.4em;\n",
       "  background-color: var(--sklearn-color-background);\n",
       "}\n",
       "\n",
       "#sk-container-id-3 div.sk-container {\n",
       "  /* jupyter's `normalize.less` sets `[hidden] { display: none; }`\n",
       "     but bootstrap.min.css set `[hidden] { display: none !important; }`\n",
       "     so we also need the `!important` here to be able to override the\n",
       "     default hidden behavior on the sphinx rendered scikit-learn.org.\n",
       "     See: https://github.com/scikit-learn/scikit-learn/issues/21755 */\n",
       "  display: inline-block !important;\n",
       "  position: relative;\n",
       "}\n",
       "\n",
       "#sk-container-id-3 div.sk-text-repr-fallback {\n",
       "  display: none;\n",
       "}\n",
       "\n",
       "div.sk-parallel-item,\n",
       "div.sk-serial,\n",
       "div.sk-item {\n",
       "  /* draw centered vertical line to link estimators */\n",
       "  background-image: linear-gradient(var(--sklearn-color-text-on-default-background), var(--sklearn-color-text-on-default-background));\n",
       "  background-size: 2px 100%;\n",
       "  background-repeat: no-repeat;\n",
       "  background-position: center center;\n",
       "}\n",
       "\n",
       "/* Parallel-specific style estimator block */\n",
       "\n",
       "#sk-container-id-3 div.sk-parallel-item::after {\n",
       "  content: \"\";\n",
       "  width: 100%;\n",
       "  border-bottom: 2px solid var(--sklearn-color-text-on-default-background);\n",
       "  flex-grow: 1;\n",
       "}\n",
       "\n",
       "#sk-container-id-3 div.sk-parallel {\n",
       "  display: flex;\n",
       "  align-items: stretch;\n",
       "  justify-content: center;\n",
       "  background-color: var(--sklearn-color-background);\n",
       "  position: relative;\n",
       "}\n",
       "\n",
       "#sk-container-id-3 div.sk-parallel-item {\n",
       "  display: flex;\n",
       "  flex-direction: column;\n",
       "}\n",
       "\n",
       "#sk-container-id-3 div.sk-parallel-item:first-child::after {\n",
       "  align-self: flex-end;\n",
       "  width: 50%;\n",
       "}\n",
       "\n",
       "#sk-container-id-3 div.sk-parallel-item:last-child::after {\n",
       "  align-self: flex-start;\n",
       "  width: 50%;\n",
       "}\n",
       "\n",
       "#sk-container-id-3 div.sk-parallel-item:only-child::after {\n",
       "  width: 0;\n",
       "}\n",
       "\n",
       "/* Serial-specific style estimator block */\n",
       "\n",
       "#sk-container-id-3 div.sk-serial {\n",
       "  display: flex;\n",
       "  flex-direction: column;\n",
       "  align-items: center;\n",
       "  background-color: var(--sklearn-color-background);\n",
       "  padding-right: 1em;\n",
       "  padding-left: 1em;\n",
       "}\n",
       "\n",
       "\n",
       "/* Toggleable style: style used for estimator/Pipeline/ColumnTransformer box that is\n",
       "clickable and can be expanded/collapsed.\n",
       "- Pipeline and ColumnTransformer use this feature and define the default style\n",
       "- Estimators will overwrite some part of the style using the `sk-estimator` class\n",
       "*/\n",
       "\n",
       "/* Pipeline and ColumnTransformer style (default) */\n",
       "\n",
       "#sk-container-id-3 div.sk-toggleable {\n",
       "  /* Default theme specific background. It is overwritten whether we have a\n",
       "  specific estimator or a Pipeline/ColumnTransformer */\n",
       "  background-color: var(--sklearn-color-background);\n",
       "}\n",
       "\n",
       "/* Toggleable label */\n",
       "#sk-container-id-3 label.sk-toggleable__label {\n",
       "  cursor: pointer;\n",
       "  display: block;\n",
       "  width: 100%;\n",
       "  margin-bottom: 0;\n",
       "  padding: 0.5em;\n",
       "  box-sizing: border-box;\n",
       "  text-align: center;\n",
       "}\n",
       "\n",
       "#sk-container-id-3 label.sk-toggleable__label-arrow:before {\n",
       "  /* Arrow on the left of the label */\n",
       "  content: \"▸\";\n",
       "  float: left;\n",
       "  margin-right: 0.25em;\n",
       "  color: var(--sklearn-color-icon);\n",
       "}\n",
       "\n",
       "#sk-container-id-3 label.sk-toggleable__label-arrow:hover:before {\n",
       "  color: var(--sklearn-color-text);\n",
       "}\n",
       "\n",
       "/* Toggleable content - dropdown */\n",
       "\n",
       "#sk-container-id-3 div.sk-toggleable__content {\n",
       "  max-height: 0;\n",
       "  max-width: 0;\n",
       "  overflow: hidden;\n",
       "  text-align: left;\n",
       "  /* unfitted */\n",
       "  background-color: var(--sklearn-color-unfitted-level-0);\n",
       "}\n",
       "\n",
       "#sk-container-id-3 div.sk-toggleable__content.fitted {\n",
       "  /* fitted */\n",
       "  background-color: var(--sklearn-color-fitted-level-0);\n",
       "}\n",
       "\n",
       "#sk-container-id-3 div.sk-toggleable__content pre {\n",
       "  margin: 0.2em;\n",
       "  border-radius: 0.25em;\n",
       "  color: var(--sklearn-color-text);\n",
       "  /* unfitted */\n",
       "  background-color: var(--sklearn-color-unfitted-level-0);\n",
       "}\n",
       "\n",
       "#sk-container-id-3 div.sk-toggleable__content.fitted pre {\n",
       "  /* unfitted */\n",
       "  background-color: var(--sklearn-color-fitted-level-0);\n",
       "}\n",
       "\n",
       "#sk-container-id-3 input.sk-toggleable__control:checked~div.sk-toggleable__content {\n",
       "  /* Expand drop-down */\n",
       "  max-height: 200px;\n",
       "  max-width: 100%;\n",
       "  overflow: auto;\n",
       "}\n",
       "\n",
       "#sk-container-id-3 input.sk-toggleable__control:checked~label.sk-toggleable__label-arrow:before {\n",
       "  content: \"▾\";\n",
       "}\n",
       "\n",
       "/* Pipeline/ColumnTransformer-specific style */\n",
       "\n",
       "#sk-container-id-3 div.sk-label input.sk-toggleable__control:checked~label.sk-toggleable__label {\n",
       "  color: var(--sklearn-color-text);\n",
       "  background-color: var(--sklearn-color-unfitted-level-2);\n",
       "}\n",
       "\n",
       "#sk-container-id-3 div.sk-label.fitted input.sk-toggleable__control:checked~label.sk-toggleable__label {\n",
       "  background-color: var(--sklearn-color-fitted-level-2);\n",
       "}\n",
       "\n",
       "/* Estimator-specific style */\n",
       "\n",
       "/* Colorize estimator box */\n",
       "#sk-container-id-3 div.sk-estimator input.sk-toggleable__control:checked~label.sk-toggleable__label {\n",
       "  /* unfitted */\n",
       "  background-color: var(--sklearn-color-unfitted-level-2);\n",
       "}\n",
       "\n",
       "#sk-container-id-3 div.sk-estimator.fitted input.sk-toggleable__control:checked~label.sk-toggleable__label {\n",
       "  /* fitted */\n",
       "  background-color: var(--sklearn-color-fitted-level-2);\n",
       "}\n",
       "\n",
       "#sk-container-id-3 div.sk-label label.sk-toggleable__label,\n",
       "#sk-container-id-3 div.sk-label label {\n",
       "  /* The background is the default theme color */\n",
       "  color: var(--sklearn-color-text-on-default-background);\n",
       "}\n",
       "\n",
       "/* On hover, darken the color of the background */\n",
       "#sk-container-id-3 div.sk-label:hover label.sk-toggleable__label {\n",
       "  color: var(--sklearn-color-text);\n",
       "  background-color: var(--sklearn-color-unfitted-level-2);\n",
       "}\n",
       "\n",
       "/* Label box, darken color on hover, fitted */\n",
       "#sk-container-id-3 div.sk-label.fitted:hover label.sk-toggleable__label.fitted {\n",
       "  color: var(--sklearn-color-text);\n",
       "  background-color: var(--sklearn-color-fitted-level-2);\n",
       "}\n",
       "\n",
       "/* Estimator label */\n",
       "\n",
       "#sk-container-id-3 div.sk-label label {\n",
       "  font-family: monospace;\n",
       "  font-weight: bold;\n",
       "  display: inline-block;\n",
       "  line-height: 1.2em;\n",
       "}\n",
       "\n",
       "#sk-container-id-3 div.sk-label-container {\n",
       "  text-align: center;\n",
       "}\n",
       "\n",
       "/* Estimator-specific */\n",
       "#sk-container-id-3 div.sk-estimator {\n",
       "  font-family: monospace;\n",
       "  border: 1px dotted var(--sklearn-color-border-box);\n",
       "  border-radius: 0.25em;\n",
       "  box-sizing: border-box;\n",
       "  margin-bottom: 0.5em;\n",
       "  /* unfitted */\n",
       "  background-color: var(--sklearn-color-unfitted-level-0);\n",
       "}\n",
       "\n",
       "#sk-container-id-3 div.sk-estimator.fitted {\n",
       "  /* fitted */\n",
       "  background-color: var(--sklearn-color-fitted-level-0);\n",
       "}\n",
       "\n",
       "/* on hover */\n",
       "#sk-container-id-3 div.sk-estimator:hover {\n",
       "  /* unfitted */\n",
       "  background-color: var(--sklearn-color-unfitted-level-2);\n",
       "}\n",
       "\n",
       "#sk-container-id-3 div.sk-estimator.fitted:hover {\n",
       "  /* fitted */\n",
       "  background-color: var(--sklearn-color-fitted-level-2);\n",
       "}\n",
       "\n",
       "/* Specification for estimator info (e.g. \"i\" and \"?\") */\n",
       "\n",
       "/* Common style for \"i\" and \"?\" */\n",
       "\n",
       ".sk-estimator-doc-link,\n",
       "a:link.sk-estimator-doc-link,\n",
       "a:visited.sk-estimator-doc-link {\n",
       "  float: right;\n",
       "  font-size: smaller;\n",
       "  line-height: 1em;\n",
       "  font-family: monospace;\n",
       "  background-color: var(--sklearn-color-background);\n",
       "  border-radius: 1em;\n",
       "  height: 1em;\n",
       "  width: 1em;\n",
       "  text-decoration: none !important;\n",
       "  margin-left: 1ex;\n",
       "  /* unfitted */\n",
       "  border: var(--sklearn-color-unfitted-level-1) 1pt solid;\n",
       "  color: var(--sklearn-color-unfitted-level-1);\n",
       "}\n",
       "\n",
       ".sk-estimator-doc-link.fitted,\n",
       "a:link.sk-estimator-doc-link.fitted,\n",
       "a:visited.sk-estimator-doc-link.fitted {\n",
       "  /* fitted */\n",
       "  border: var(--sklearn-color-fitted-level-1) 1pt solid;\n",
       "  color: var(--sklearn-color-fitted-level-1);\n",
       "}\n",
       "\n",
       "/* On hover */\n",
       "div.sk-estimator:hover .sk-estimator-doc-link:hover,\n",
       ".sk-estimator-doc-link:hover,\n",
       "div.sk-label-container:hover .sk-estimator-doc-link:hover,\n",
       ".sk-estimator-doc-link:hover {\n",
       "  /* unfitted */\n",
       "  background-color: var(--sklearn-color-unfitted-level-3);\n",
       "  color: var(--sklearn-color-background);\n",
       "  text-decoration: none;\n",
       "}\n",
       "\n",
       "div.sk-estimator.fitted:hover .sk-estimator-doc-link.fitted:hover,\n",
       ".sk-estimator-doc-link.fitted:hover,\n",
       "div.sk-label-container:hover .sk-estimator-doc-link.fitted:hover,\n",
       ".sk-estimator-doc-link.fitted:hover {\n",
       "  /* fitted */\n",
       "  background-color: var(--sklearn-color-fitted-level-3);\n",
       "  color: var(--sklearn-color-background);\n",
       "  text-decoration: none;\n",
       "}\n",
       "\n",
       "/* Span, style for the box shown on hovering the info icon */\n",
       ".sk-estimator-doc-link span {\n",
       "  display: none;\n",
       "  z-index: 9999;\n",
       "  position: relative;\n",
       "  font-weight: normal;\n",
       "  right: .2ex;\n",
       "  padding: .5ex;\n",
       "  margin: .5ex;\n",
       "  width: min-content;\n",
       "  min-width: 20ex;\n",
       "  max-width: 50ex;\n",
       "  color: var(--sklearn-color-text);\n",
       "  box-shadow: 2pt 2pt 4pt #999;\n",
       "  /* unfitted */\n",
       "  background: var(--sklearn-color-unfitted-level-0);\n",
       "  border: .5pt solid var(--sklearn-color-unfitted-level-3);\n",
       "}\n",
       "\n",
       ".sk-estimator-doc-link.fitted span {\n",
       "  /* fitted */\n",
       "  background: var(--sklearn-color-fitted-level-0);\n",
       "  border: var(--sklearn-color-fitted-level-3);\n",
       "}\n",
       "\n",
       ".sk-estimator-doc-link:hover span {\n",
       "  display: block;\n",
       "}\n",
       "\n",
       "/* \"?\"-specific style due to the `<a>` HTML tag */\n",
       "\n",
       "#sk-container-id-3 a.estimator_doc_link {\n",
       "  float: right;\n",
       "  font-size: 1rem;\n",
       "  line-height: 1em;\n",
       "  font-family: monospace;\n",
       "  background-color: var(--sklearn-color-background);\n",
       "  border-radius: 1rem;\n",
       "  height: 1rem;\n",
       "  width: 1rem;\n",
       "  text-decoration: none;\n",
       "  /* unfitted */\n",
       "  color: var(--sklearn-color-unfitted-level-1);\n",
       "  border: var(--sklearn-color-unfitted-level-1) 1pt solid;\n",
       "}\n",
       "\n",
       "#sk-container-id-3 a.estimator_doc_link.fitted {\n",
       "  /* fitted */\n",
       "  border: var(--sklearn-color-fitted-level-1) 1pt solid;\n",
       "  color: var(--sklearn-color-fitted-level-1);\n",
       "}\n",
       "\n",
       "/* On hover */\n",
       "#sk-container-id-3 a.estimator_doc_link:hover {\n",
       "  /* unfitted */\n",
       "  background-color: var(--sklearn-color-unfitted-level-3);\n",
       "  color: var(--sklearn-color-background);\n",
       "  text-decoration: none;\n",
       "}\n",
       "\n",
       "#sk-container-id-3 a.estimator_doc_link.fitted:hover {\n",
       "  /* fitted */\n",
       "  background-color: var(--sklearn-color-fitted-level-3);\n",
       "}\n",
       "</style><div id=\"sk-container-id-3\" class=\"sk-top-container\"><div class=\"sk-text-repr-fallback\"><pre>RandomizedSearchCV(cv=3,\n",
       "                   estimator=Pipeline(steps=[(&#x27;standardscaler&#x27;,\n",
       "                                              StandardScaler()),\n",
       "                                             (&#x27;svr&#x27;, SVR())]),\n",
       "                   n_jobs=-1,\n",
       "                   param_distributions={&#x27;svr__C&#x27;: [0.01, 0.1, 0.5, 1.0],\n",
       "                                        &#x27;svr__gamma&#x27;: [&#x27;scale&#x27;, &#x27;auto&#x27;],\n",
       "                                        &#x27;svr__kernel&#x27;: [&#x27;linear&#x27;, &#x27;rbf&#x27;]},\n",
       "                   scoring=&#x27;neg_mean_squared_error&#x27;, verbose=2)</pre><b>In a Jupyter environment, please rerun this cell to show the HTML representation or trust the notebook. <br />On GitHub, the HTML representation is unable to render, please try loading this page with nbviewer.org.</b></div><div class=\"sk-container\" hidden><div class=\"sk-item sk-dashed-wrapped\"><div class=\"sk-label-container\"><div class=\"sk-label fitted sk-toggleable\"><input class=\"sk-toggleable__control sk-hidden--visually\" id=\"sk-estimator-id-9\" type=\"checkbox\" ><label for=\"sk-estimator-id-9\" class=\"sk-toggleable__label fitted sk-toggleable__label-arrow fitted\">&nbsp;&nbsp;RandomizedSearchCV<a class=\"sk-estimator-doc-link fitted\" rel=\"noreferrer\" target=\"_blank\" href=\"https://scikit-learn.org/1.5/modules/generated/sklearn.model_selection.RandomizedSearchCV.html\">?<span>Documentation for RandomizedSearchCV</span></a><span class=\"sk-estimator-doc-link fitted\">i<span>Fitted</span></span></label><div class=\"sk-toggleable__content fitted\"><pre>RandomizedSearchCV(cv=3,\n",
       "                   estimator=Pipeline(steps=[(&#x27;standardscaler&#x27;,\n",
       "                                              StandardScaler()),\n",
       "                                             (&#x27;svr&#x27;, SVR())]),\n",
       "                   n_jobs=-1,\n",
       "                   param_distributions={&#x27;svr__C&#x27;: [0.01, 0.1, 0.5, 1.0],\n",
       "                                        &#x27;svr__gamma&#x27;: [&#x27;scale&#x27;, &#x27;auto&#x27;],\n",
       "                                        &#x27;svr__kernel&#x27;: [&#x27;linear&#x27;, &#x27;rbf&#x27;]},\n",
       "                   scoring=&#x27;neg_mean_squared_error&#x27;, verbose=2)</pre></div> </div></div><div class=\"sk-parallel\"><div class=\"sk-parallel-item\"><div class=\"sk-item\"><div class=\"sk-label-container\"><div class=\"sk-label fitted sk-toggleable\"><input class=\"sk-toggleable__control sk-hidden--visually\" id=\"sk-estimator-id-10\" type=\"checkbox\" ><label for=\"sk-estimator-id-10\" class=\"sk-toggleable__label fitted sk-toggleable__label-arrow fitted\">best_estimator_: Pipeline</label><div class=\"sk-toggleable__content fitted\"><pre>Pipeline(steps=[(&#x27;standardscaler&#x27;, StandardScaler()),\n",
       "                (&#x27;svr&#x27;, SVR(gamma=&#x27;auto&#x27;, kernel=&#x27;linear&#x27;))])</pre></div> </div></div><div class=\"sk-serial\"><div class=\"sk-item\"><div class=\"sk-serial\"><div class=\"sk-item\"><div class=\"sk-estimator fitted sk-toggleable\"><input class=\"sk-toggleable__control sk-hidden--visually\" id=\"sk-estimator-id-11\" type=\"checkbox\" ><label for=\"sk-estimator-id-11\" class=\"sk-toggleable__label fitted sk-toggleable__label-arrow fitted\">&nbsp;StandardScaler<a class=\"sk-estimator-doc-link fitted\" rel=\"noreferrer\" target=\"_blank\" href=\"https://scikit-learn.org/1.5/modules/generated/sklearn.preprocessing.StandardScaler.html\">?<span>Documentation for StandardScaler</span></a></label><div class=\"sk-toggleable__content fitted\"><pre>StandardScaler()</pre></div> </div></div><div class=\"sk-item\"><div class=\"sk-estimator fitted sk-toggleable\"><input class=\"sk-toggleable__control sk-hidden--visually\" id=\"sk-estimator-id-12\" type=\"checkbox\" ><label for=\"sk-estimator-id-12\" class=\"sk-toggleable__label fitted sk-toggleable__label-arrow fitted\">&nbsp;SVR<a class=\"sk-estimator-doc-link fitted\" rel=\"noreferrer\" target=\"_blank\" href=\"https://scikit-learn.org/1.5/modules/generated/sklearn.svm.SVR.html\">?<span>Documentation for SVR</span></a></label><div class=\"sk-toggleable__content fitted\"><pre>SVR(gamma=&#x27;auto&#x27;, kernel=&#x27;linear&#x27;)</pre></div> </div></div></div></div></div></div></div></div></div></div></div>"
      ],
      "text/plain": [
       "RandomizedSearchCV(cv=3,\n",
       "                   estimator=Pipeline(steps=[('standardscaler',\n",
       "                                              StandardScaler()),\n",
       "                                             ('svr', SVR())]),\n",
       "                   n_jobs=-1,\n",
       "                   param_distributions={'svr__C': [0.01, 0.1, 0.5, 1.0],\n",
       "                                        'svr__gamma': ['scale', 'auto'],\n",
       "                                        'svr__kernel': ['linear', 'rbf']},\n",
       "                   scoring='neg_mean_squared_error', verbose=2)"
      ]
     },
     "execution_count": 31,
     "metadata": {},
     "output_type": "execute_result"
    }
   ],
   "source": [
    "from sklearn.svm import SVR\n",
    "from sklearn.preprocessing import StandardScaler\n",
    "from sklearn.model_selection import RandomizedSearchCV\n",
    "from sklearn.pipeline import make_pipeline\n",
    "\n",
    "svr_pipeline = make_pipeline(StandardScaler(), SVR())\n",
    "param_grid = {\n",
    "    'svr__kernel': ['linear', 'rbf'],\n",
    "    'svr__C': [0.01, 0.1, 0.5, 1.0],\n",
    "    'svr__gamma': ['scale', 'auto']\n",
    "}\n",
    "\n",
    "random_search = RandomizedSearchCV(svr_pipeline, param_grid, n_iter=10, cv=3, verbose=2, n_jobs=-1, scoring='neg_mean_squared_error')\n",
    "random_search.fit(x_train, y_train)\n"
   ]
  },
  {
   "cell_type": "code",
   "execution_count": 32,
   "id": "2931e234-de42-41b6-b5ea-c453507c5c91",
   "metadata": {},
   "outputs": [
    {
     "name": "stdout",
     "output_type": "stream",
     "text": [
      "Training Data Evaluation:\n",
      "SVR RMSE: 87403.65173281883\n",
      "SVR R2 Score: 0.12336145549326549\n"
     ]
    }
   ],
   "source": [
    "# Predictions and evaluation\n",
    "y_pred_train_svr = random_search.best_estimator_.predict(x_train)\n",
    "y_pred_test_svr = random_search.best_estimator_.predict(x_test)\n",
    "\n",
    "print(\"Training Data Evaluation:\")\n",
    "print('SVR RMSE:',mean_squared_error(y_train,y_pred_train_svr)**0.5)\n",
    "print('SVR R2 Score:',r2_score(y_train,y_pred_train_svr))"
   ]
  },
  {
   "cell_type": "code",
   "execution_count": 34,
   "id": "97aa759b-e0db-4511-a348-1e22aadc9a7d",
   "metadata": {},
   "outputs": [
    {
     "name": "stdout",
     "output_type": "stream",
     "text": [
      "\n",
      "Testing Data Evaluation:\n",
      "SVR RMSE: 7415057140.071483\n",
      "SVR R2 Score: 0.1220087485535124\n"
     ]
    }
   ],
   "source": [
    "y_pred_test_svr=random_search.predict(x_test)\n",
    "\n",
    "print(\"\\nTesting Data Evaluation:\")\n",
    "print('SVR RMSE:',mean_squared_error(y_test,y_pred_test_svr))\n",
    "print('SVR R2 Score:',r2_score(y_test,y_pred_test_svr))"
   ]
  },
  {
   "cell_type": "markdown",
   "id": "ee294c96-383e-4092-91f1-585c34295823",
   "metadata": {},
   "source": [
    "Applying Decision Tree Regressor"
   ]
  },
  {
   "cell_type": "code",
   "execution_count": 35,
   "id": "f31c88f6-9d47-4fa7-9ee9-f13d3c42e0bd",
   "metadata": {},
   "outputs": [
    {
     "name": "stdout",
     "output_type": "stream",
     "text": [
      "Fitting 7 folds for each of 45 candidates, totalling 315 fits\n",
      "Training Data Evaluation:\n",
      "Decision Tree RMSE: 58879.85252831132\n",
      "Decision Tree R2 Score: 0.6021724699313569\n",
      "\n",
      "Testing Data Evaluation:\n",
      "Decision Tree RMSE: 4280506321.8490415\n",
      "Decision Tree R2 Score: 0.4931600618375529\n"
     ]
    }
   ],
   "source": [
    "from sklearn.tree import DecisionTreeRegressor\n",
    "from sklearn.model_selection import GridSearchCV\n",
    "param_grid={\n",
    "    'max_depth':[10, 15, 20, 25, 30],\n",
    "    'min_samples_split':[5,10,15],\n",
    "    'min_samples_leaf':[2,4,6],\n",
    "    'criterion':[ 'squared_error'],\n",
    "    'max_features': ['sqrt']\n",
    "}\n",
    "\n",
    "gridtree=GridSearchCV(DecisionTreeRegressor(random_state=0),param_grid,cv=7,scoring='neg_mean_squared_error',verbose=2, n_jobs=-1)\n",
    "\n",
    "gridtree.fit(x_train,y_train)\n",
    "\n",
    "best_model = gridtree.best_estimator_\n",
    "\n",
    "y_pred_traindt=best_model.predict(x_train)\n",
    "y_pred_testdt=best_model.predict(x_test)\n",
    "\n",
    "print(\"Training Data Evaluation:\")\n",
    "print('Decision Tree RMSE:',mean_squared_error(y_train,y_pred_traindt)**0.5)\n",
    "print('Decision Tree R2 Score:',r2_score(y_train,y_pred_traindt))\n",
    "\n",
    "print(\"\\nTesting Data Evaluation:\")\n",
    "print('Decision Tree RMSE:',mean_squared_error(y_test,y_pred_testdt))\n",
    "print('Decision Tree R2 Score:',r2_score(y_test,y_pred_testdt))"
   ]
  },
  {
   "cell_type": "markdown",
   "id": "9d23f262-9cbc-4ca2-a2bf-77db6e725489",
   "metadata": {},
   "source": [
    "Applying Random Forest"
   ]
  },
  {
   "cell_type": "code",
   "execution_count": 36,
   "id": "2b9be3da-927a-4be5-ad59-d063a248a6e2",
   "metadata": {},
   "outputs": [
    {
     "name": "stdout",
     "output_type": "stream",
     "text": [
      "Fitting 5 folds for each of 54 candidates, totalling 270 fits\n",
      "Training Data Evaluation:\n",
      "Random Forest RMSE: 21876.623213716084\n",
      "Random Forest R2 Score: 0.9450810810118394\n",
      "\n",
      "Testing Data Evaluation:\n",
      "Random Forest RMSE: 2727829530.265222\n",
      "Random Forest R2 Score: 0.6770071467059311\n"
     ]
    }
   ],
   "source": [
    "from sklearn.ensemble import RandomForestRegressor\n",
    "param_grid_rf = {\n",
    "    'n_estimators': [100, 200],\n",
    "    'max_depth': [10, 15, 20],\n",
    "    'min_samples_split': [2, 5, 10],\n",
    "    'min_samples_leaf': [1, 3, 5],\n",
    "    'criterion': ['squared_error'],\n",
    "    'max_features': ['sqrt']\n",
    "}\n",
    "gridrf=GridSearchCV(RandomForestRegressor(random_state=0),param_grid_rf,cv=5,scoring='neg_mean_squared_error',verbose=2, n_jobs=-1)\n",
    "\n",
    "gridrf.fit(x_train,y_train)\n",
    "\n",
    "y_pred_trainrf=gridrf.predict(x_train)\n",
    "y_pred_testrf=gridrf.predict(x_test)\n",
    "\n",
    "print(\"Training Data Evaluation:\")\n",
    "print('Random Forest RMSE:',mean_squared_error(y_train,y_pred_trainrf)**0.5)\n",
    "print('Random Forest R2 Score:',r2_score(y_train,y_pred_trainrf))\n",
    "\n",
    "print(\"\\nTesting Data Evaluation:\")\n",
    "print('Random Forest RMSE:',mean_squared_error(y_test,y_pred_testrf))\n",
    "print('Random Forest R2 Score:',r2_score(y_test,y_pred_testrf))"
   ]
  },
  {
   "cell_type": "code",
   "execution_count": 37,
   "id": "628da9a8-44ce-43d1-ae8f-31dd0d1b4a94",
   "metadata": {},
   "outputs": [],
   "source": [
    "from sklearn import metrics\n",
    "import pandas as pd\n",
    "import seaborn as sns\n",
    "import matplotlib.pyplot as plt\n",
    "\n",
    "# Calculate accuracy scores for training and test data\n",
    "train_score1 = metrics.r2_score(y_train, y_pred_train_lr)*100\n",
    "train_score2 = metrics.r2_score(y_train, y_train_pred)*100\n",
    "train_score3 = metrics.r2_score(y_train, y_pred_train_svr)*100\n",
    "train_score4 = metrics.r2_score(y_train, y_pred_traindt)*100\n",
    "train_score5 = metrics.r2_score(y_train, y_pred_trainrf)*100\n",
    "\n",
    "test_score1 = metrics.r2_score(y_test, y_pred_test_lr)*100\n",
    "test_score2 = metrics.r2_score(y_test, y_test_pred)*100\n",
    "test_score3 = metrics.r2_score(y_test, y_pred_test_svr)*100\n",
    "test_score4 = metrics.r2_score(y_test, y_pred_testdt)*100\n",
    "test_score5 = metrics.r2_score(y_test, y_pred_testrf)*100"
   ]
  },
  {
   "cell_type": "code",
   "execution_count": null,
   "id": "47ab335b-c653-4b25-b720-c3b349f1da35",
   "metadata": {},
   "outputs": [],
   "source": []
  },
  {
   "cell_type": "code",
   "execution_count": null,
   "id": "121c799f-c02b-409e-81ba-d1534b1e5eb3",
   "metadata": {},
   "outputs": [],
   "source": []
  },
  {
   "cell_type": "code",
   "execution_count": 42,
   "id": "8a8367f5-1ec9-4f0a-bb35-de4a014475fe",
   "metadata": {},
   "outputs": [
    {
     "data": {
      "image/png": "[encoded data removed]",
      "text/plain": [
       "<Figure size 1000x600 with 1 Axes>"
      ]
     },
     "metadata": {},
     "output_type": "display_data"
    }
   ],
   "source": [
    "# Create a DataFrame for plotting\n",
    "final_data = pd.DataFrame({\n",
    "    'MODELS': ['Linear Regression', 'Polynomial Regression', 'SVR', 'Decision Tree', 'Random Forest'],\n",
    "    \"Train Accuracy\": [train_score1, train_score2, train_score3, train_score4, train_score5],\n",
    "    \"Test Accuracy\": [test_score1, test_score2, test_score3, test_score4, test_score5]\n",
    "})\n",
    "\n",
    "# Melt the DataFrame\n",
    "final_data_melted = pd.melt(final_data, id_vars=['MODELS'], var_name='Accuracy Type', value_name='Accuracy')\n",
    "\n",
    "# Plotting the stacked bar chart\n",
    "plt.figure(figsize=(10, 6))\n",
    "barplot = sns.barplot(x='MODELS', y='Accuracy', hue='Accuracy Type', data=final_data_melted)\n",
    "\n",
    "# Add labels on top of each bar\n",
    "for container in barplot.containers:\n",
    "    barplot.bar_label(container, fmt='%.2f', label_type='center', padding=3)\n",
    "\n",
    "# Set labels and title\n",
    "plt.xlabel('Models')\n",
    "plt.ylabel('R2 Score (%)')\n",
    "plt.title('Model Train vs Test R2 Score Comparison')\n",
    "# Display the plot\n",
    "plt.show()\n",
    "\n"
   ]
  },
  {
   "cell_type": "code",
   "execution_count": null,
   "id": "b25489cf-2986-4d44-aaa7-5b41281fc7c5",
   "metadata": {},
   "outputs": [],
   "source": []
  }
 ],
 "metadata": {
  "kernelspec": {
   "display_name": "Python [conda env:base] *",
   "language": "python",
   "name": "conda-base-py"
  },
  "language_info": {
   "codemirror_mode": {
    "name": "ipython",
    "version": 3
   },
   "file_extension": ".py",
   "mimetype": "text/x-python",
   "name": "python",
   "nbconvert_exporter": "python",
   "pygments_lexer": "ipython3",
   "version": "3.12.7"
  }
 },
 "nbformat": 4,
 "nbformat_minor": 5
}
